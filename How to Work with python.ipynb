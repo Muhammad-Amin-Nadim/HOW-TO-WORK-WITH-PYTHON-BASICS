{
 "cells": [
  {
   "cell_type": "markdown",
   "metadata": {},
   "source": [
    "**Hello !!!!**\n",
    "\n",
    "Python is a programming language. It is a high-level, interpreted, interactive, object-oriented, and dynamic programming language. Python is designed to be highly readable and easy to use. It is also easy to learn.\n",
    "Python was founded in the late 1980s by Guido van Rossum. Python is now used by many large companies and organizations for software development.\n",
    "\n",
    "How Python is important in Data Science?\n",
    "\n",
    "In this tutorial, we will learn how to use Python in Data Science."
   ]
  },
  {
   "cell_type": "code",
   "execution_count": 16,
   "metadata": {},
   "outputs": [
    {
     "name": "stdout",
     "output_type": "stream",
     "text": [
      "Hello World\n",
      "Hello, My Name is Ashish Patel\n",
      "I am 31 years old\n"
     ]
    }
   ],
   "source": [
    "#How to print \"Hello World\"\n",
    "print(\"Hello World\")\n",
    "#How to print your name\n",
    "print(\"Hello, My Name is Ashish Patel\") \n",
    "#How to print your age\n",
    "print(\"I am 31 years old\")"
   ]
  },
  {
   "cell_type": "markdown",
   "metadata": {},
   "source": [
    "How do I store my data?\n",
    "\n",
    "where do I store my data?\n",
    "\n",
    " **Variables:** Data/values can be stored in temporary stoarge spcae known as variables."
   ]
  },
  {
   "cell_type": "code",
   "execution_count": 17,
   "metadata": {},
   "outputs": [
    {
     "data": {
      "text/plain": [
       "'Ashish'"
      ]
     },
     "execution_count": 17,
     "metadata": {},
     "output_type": "execute_result"
    }
   ],
   "source": [
    "student = \"Ashish\"\n",
    "#This value is stored in student variable\n",
    "student"
   ]
  },
  {
   "cell_type": "code",
   "execution_count": 18,
   "metadata": {},
   "outputs": [
    {
     "data": {
      "text/plain": [
       "'Sachin'"
      ]
     },
     "execution_count": 18,
     "metadata": {},
     "output_type": "execute_result"
    }
   ],
   "source": [
    "#As, we can see, the value is stored in student variable is temporary storage space.\n",
    "#Let's store new value in student variable\n",
    "student = \"Sachin\"\n",
    "student"
   ]
  },
  {
   "cell_type": "markdown",
   "metadata": {},
   "source": [
    "**Data Types:** Every variable is associated with a data type.\n",
    "1) Integer: An integer is a whole number such as 8 or 200.\n",
    "\n",
    "2) Float: A float is a number with a decimal point, such as 3.14 or 0.4.\n",
    "\n",
    "3) String: A string is a series of characters surrounded by quotes.\n",
    "\n",
    "4) Boolean: A boolean is a True or False value.\n",
    "\n",
    "5) Complex: A complex number is a number with a real part and an imaginary part."
   ]
  },
  {
   "cell_type": "code",
   "execution_count": 20,
   "metadata": {},
   "outputs": [
    {
     "data": {
      "text/plain": [
       "10"
      ]
     },
     "execution_count": 20,
     "metadata": {},
     "output_type": "execute_result"
    }
   ],
   "source": [
    "#Let's store a int value in a1\n",
    "a1 = 10\n",
    "a1"
   ]
  },
  {
   "cell_type": "code",
   "execution_count": 21,
   "metadata": {},
   "outputs": [
    {
     "data": {
      "text/plain": [
       "int"
      ]
     },
     "execution_count": 21,
     "metadata": {},
     "output_type": "execute_result"
    }
   ],
   "source": [
    "#To check the type of a1\n",
    "type(a1)"
   ]
  },
  {
   "cell_type": "code",
   "execution_count": 22,
   "metadata": {},
   "outputs": [
    {
     "data": {
      "text/plain": [
       "float"
      ]
     },
     "execution_count": 22,
     "metadata": {},
     "output_type": "execute_result"
    }
   ],
   "source": [
    "#Let's store a float value in a1\n",
    "a1 = 10.5\n",
    "a1"
   ]
  },
  {
   "cell_type": "code",
   "execution_count": 23,
   "metadata": {},
   "outputs": [
    {
     "data": {
      "text/plain": [
       "float"
      ]
     },
     "execution_count": 23,
     "metadata": {},
     "output_type": "execute_result"
    }
   ],
   "source": [
    "#To check the type of a1\n",
    "type(a1)"
   ]
  },
  {
   "cell_type": "code",
   "execution_count": 25,
   "metadata": {},
   "outputs": [
    {
     "data": {
      "text/plain": [
       "bool"
      ]
     },
     "execution_count": 25,
     "metadata": {},
     "output_type": "execute_result"
    }
   ],
   "source": [
    "#Let's store a boolean value in a1\n",
    "a1 = True\n",
    "type(a1)"
   ]
  },
  {
   "cell_type": "code",
   "execution_count": 26,
   "metadata": {},
   "outputs": [
    {
     "data": {
      "text/plain": [
       "str"
      ]
     },
     "execution_count": 26,
     "metadata": {},
     "output_type": "execute_result"
    }
   ],
   "source": [
    "#Let's store a string value in a1\n",
    "a1 = \"Hello World\"\n",
    "type(a1)"
   ]
  },
  {
   "cell_type": "code",
   "execution_count": 31,
   "metadata": {},
   "outputs": [
    {
     "data": {
      "text/plain": [
       "complex"
      ]
     },
     "execution_count": 31,
     "metadata": {},
     "output_type": "execute_result"
    }
   ],
   "source": [
    "#Let's store a complec value in a1, where 3 is real number and 4 is imaginary number. In python, we can store complex number as a tuple.\n",
    "a1 = 3+4j\n",
    "type(a1)"
   ]
  },
  {
   "cell_type": "markdown",
   "metadata": {},
   "source": [
    "**Operators:** Operators are used to perform operations on variables.\n",
    "1) Arithmetic: Arithmetic operators are used to perform arithmetic operations on variables.\n",
    "\n",
    "2) Relational: Relational operators are used to compare variables.\n"
   ]
  },
  {
   "cell_type": "code",
   "execution_count": 57,
   "metadata": {},
   "outputs": [
    {
     "name": "stdout",
     "output_type": "stream",
     "text": [
      "10 20\n",
      "The addition of a and b is: 30\n",
      "The subtraction of a and b is: -10\n",
      "The multiplication of a and b is: 200\n",
      "The division of a and b is: 0.5\n"
     ]
    }
   ],
   "source": [
    "#Arithmetic Operators: +, -, *, /, %, **\n",
    "a = 10\n",
    "b = 20\n",
    "print(a,b)\n",
    "#Let's perform some arithmetic operations\n",
    "A = a+b\n",
    "print(\"The addition of a and b is:\",A)\n",
    "B = a-b\n",
    "print(\"The subtraction of a and b is:\",B)\n",
    "C = a*b\n",
    "print(\"The multiplication of a and b is:\",C)\n",
    "D = a/b\n",
    "print(\"The division of a and b is:\",D)\n"
   ]
  },
  {
   "cell_type": "code",
   "execution_count": 58,
   "metadata": {},
   "outputs": [
    {
     "name": "stdout",
     "output_type": "stream",
     "text": [
      "The value of a is greater than b: False\n",
      "The value of a is less than b is: True\n",
      "The value of a is equal to b is: False\n",
      "The value of a is not equal to b is: True\n",
      "The value of a is greater than or equal to b is: False\n"
     ]
    }
   ],
   "source": [
    "#Relational Operators: ==, !=, >, <, >=, <=\n",
    "a = 50\n",
    "b = 100\n",
    "#Let's perform some relational operations\n",
    "A = a>b\n",
    "print(\"The value of a is greater than b:\",A)\n",
    "B = a<b\n",
    "print(\"The value of a is less than b is:\",B)\n",
    "C = a==b\n",
    "print(\"The value of a is equal to b is:\",C)\n",
    "D = a!=b\n",
    "print(\"The value of a is not equal to b is:\",D)\n",
    "E = a>=b\n",
    "print(\"The value of a is greater than or equal to b is:\",E)"
   ]
  },
  {
   "cell_type": "code",
   "execution_count": 64,
   "metadata": {},
   "outputs": [
    {
     "name": "stdout",
     "output_type": "stream",
     "text": [
      "The value of True & False is: False\n",
      "The value of False & False is: False\n",
      "The value of True & True is: True\n",
      "The value of True | False is: True\n",
      "The value of False | False is: False\n",
      "The value of True | True is: True\n"
     ]
    }
   ],
   "source": [
    "#Logical Operators: and(&), or(|), not\n",
    "a = True\n",
    "b = False\n",
    "#Let's perform some logical operations\n",
    "A = a & b\n",
    "print (\"The value of True & False is:\",A)\n",
    "B = b & b\n",
    "print(\"The value of False & False is:\",B)\n",
    "C = a & a\n",
    "print (\"The value of True & True is:\",C)\n",
    "D = a | b\n",
    "print (\"The value of True | False is:\",D)\n",
    "E = b | b\n",
    "print(\"The value of False | False is:\",E)\n",
    "F = a | a\n",
    "print(\"The value of True | True is:\",F)\n"
   ]
  },
  {
   "cell_type": "markdown",
   "metadata": {},
   "source": [
    "**Python Tokens:** Smallest meaningful component of code in Python.\n",
    "\n",
    "**1) Identifier:** A name that can be used to identify a variable, functions or objects.\n",
    "\n",
    "**Rules for Identifier:**\n",
    "\n",
    "   i) Identifier must start with a letter or underscore.\n",
    "\n",
    "   ii) Identifier can contain letters, numbers, underscores, and dollar signs.\n",
    "\n",
    "   iii) Identifier cannot start with a number.\n",
    "\n",
    "   iv) Identifier cannot be a reserved word.\n",
    "\n",
    "   v) Identifier are case sensitive.\n",
    " \n",
    "**2) Keyword:** A word that is reserved by the Python interpreter.\n",
    "    \n",
    "**3) Operator:** A character that is used to perform an operation.\n",
    "    \n",
    "**4) Literal:** A literal are constants in python which were stored in variables.\n",
    "    \n",
    "    "
   ]
  },
  {
   "cell_type": "markdown",
   "metadata": {},
   "source": [
    "**Python String:** A string is a sequence of characters.\n",
    "String is a sequence of characters within single, double or triple quotes.\n",
    "1) Single quotes:  'Hello World'\n",
    "\n",
    "2) Double quotes:  \"Hello, My name is Ashish Patel\"\n",
    "\n",
    "3) Triple quotes:  \"\"\"Hello World, This is a multi line string\"\"\""
   ]
  },
  {
   "cell_type": "code",
   "execution_count": 75,
   "metadata": {},
   "outputs": [
    {
     "data": {
      "text/plain": [
       "'This is my first string'"
      ]
     },
     "execution_count": 75,
     "metadata": {},
     "output_type": "execute_result"
    }
   ],
   "source": [
    "#Let's create string with single quote and print it\n",
    "str1 = 'This is my first string'\n",
    "str1"
   ]
  },
  {
   "cell_type": "code",
   "execution_count": 76,
   "metadata": {},
   "outputs": [
    {
     "data": {
      "text/plain": [
       "'This is my second string'"
      ]
     },
     "execution_count": 76,
     "metadata": {},
     "output_type": "execute_result"
    }
   ],
   "source": [
    "#Create string with double quotes and print it\n",
    "str2 = \"This is my second string\"\n",
    "str2"
   ]
  },
  {
   "cell_type": "code",
   "execution_count": 77,
   "metadata": {},
   "outputs": [
    {
     "data": {
      "text/plain": [
       "'\\n        This is my third string.\\n        This string has lots of lines of text.\\n        '"
      ]
     },
     "execution_count": 77,
     "metadata": {},
     "output_type": "execute_result"
    }
   ],
   "source": [
    "#Create string with triple quotes and print it\n",
    "str3 = \"\"\"\n",
    "        This is my third string.\n",
    "        This string has lots of lines of text.\n",
    "        \"\"\"\n",
    "str3\n",
    "        "
   ]
  },
  {
   "cell_type": "code",
   "execution_count": 94,
   "metadata": {},
   "outputs": [
    {
     "data": {
      "text/plain": [
       "('H', 'd', 'Hello', 'Hello W', ' World', 'HloWrd')"
      ]
     },
     "execution_count": 94,
     "metadata": {},
     "output_type": "execute_result"
    }
   ],
   "source": [
    "#How to extract individual characters from a string\n",
    "str1 = 'Hello World'\n",
    "str1[0], str1[-1], str1[0:5], str1[0:7], str1[-6:], str1[0:11:2]"
   ]
  },
  {
   "cell_type": "code",
   "execution_count": 108,
   "metadata": {},
   "outputs": [
    {
     "name": "stdout",
     "output_type": "stream",
     "text": [
      "11\n",
      "hello world\n",
      "HELLO WORLD\n",
      "Hii World\n",
      "2\n"
     ]
    }
   ],
   "source": [
    "#to get the length of a string\n",
    "print(len(str1))\n",
    "#to convert a string into lower case\n",
    "str2 = str1.lower()\n",
    "print(str2)\n",
    "#to convert a string into upper case\n",
    "str3 = str2.upper()\n",
    "print(str3)\n",
    "#to replece a single character or word in a string\n",
    "str4 = str1.replace('Hello','Hii')\n",
    "print(str4)\n",
    "#to count the number of times a word or character is present in a string\n",
    "print(str4.count('i'))"
   ]
  },
  {
   "cell_type": "code",
   "execution_count": 115,
   "metadata": {},
   "outputs": [
    {
     "name": "stdout",
     "output_type": "stream",
     "text": [
      "9\n",
      "['Hello', ' This is my first string']\n"
     ]
    }
   ],
   "source": [
    "s1 = \"Hello, This is my first string\"\n",
    "print(s1.find('is'))\n",
    "s2 = s1.split(',')\n",
    "print(s2)\n"
   ]
  },
  {
   "cell_type": "markdown",
   "metadata": {},
   "source": [
    "**Python Data Structure:** Tuples, Lists, Dictionaries, Sets.\n",
    "\n",
    "**Tuples:** Tuple is an ordered collection of elements enclosed within (). A tuple is a sequence of immutable Python objects ."
   ]
  },
  {
   "cell_type": "code",
   "execution_count": 132,
   "metadata": {},
   "outputs": [
    {
     "name": "stdout",
     "output_type": "stream",
     "text": [
      "<class 'tuple'>\n",
      "1\n",
      "True\n",
      "(1, 'a', 3.14)\n",
      "4\n",
      "(1, 2, 3, 4, 5, 6)\n",
      "(1, 'a', 3.14, True, 1, 'a', 3.14, True, 1, 'a', 3.14, True)\n",
      "4\n",
      "6\n"
     ]
    }
   ],
   "source": [
    "#tuple are heterogeneous collection of items.\n",
    "tup1 = (1, 'a', 3.14, True)\n",
    "print(type(tup1))\n",
    "#to extract individual items from a tuple\n",
    "print(tup1[0])\n",
    "print(tup1[-1])\n",
    "print(tup1[0:3])\n",
    "#to get the length of a tuple\n",
    "print(len(tup1))\n",
    "#to concatenate two tuples\n",
    "tupa = (1,2,3)\n",
    "tupb = (4,5,6)\n",
    "print(tupa+tupb)\n",
    "#to repeating a tuple elements\n",
    "print(tup1*3)\n",
    "#to check the minimum and maximum value of a tuple\n",
    "print(min(tupb))\n",
    "print(max(tupb))\n",
    "\n"
   ]
  },
  {
   "cell_type": "code",
   "execution_count": 124,
   "metadata": {},
   "outputs": [
    {
     "ename": "TypeError",
     "evalue": "'tuple' object does not support item assignment",
     "output_type": "error",
     "traceback": [
      "\u001b[1;31m---------------------------------------------------------------------------\u001b[0m",
      "\u001b[1;31mTypeError\u001b[0m                                 Traceback (most recent call last)",
      "\u001b[1;32mC:\\Users\\KOMAL~1.LAM\\AppData\\Local\\Temp/ipykernel_25412/4259165996.py\u001b[0m in \u001b[0;36m<module>\u001b[1;34m\u001b[0m\n\u001b[0;32m      1\u001b[0m \u001b[1;31m#you can't change the value of a tuple\u001b[0m\u001b[1;33m\u001b[0m\u001b[1;33m\u001b[0m\u001b[1;33m\u001b[0m\u001b[0m\n\u001b[1;32m----> 2\u001b[1;33m \u001b[0mtup1\u001b[0m\u001b[1;33m[\u001b[0m\u001b[1;36m2\u001b[0m\u001b[1;33m]\u001b[0m \u001b[1;33m=\u001b[0m \u001b[1;34m'b'\u001b[0m\u001b[1;33m\u001b[0m\u001b[1;33m\u001b[0m\u001b[0m\n\u001b[0m",
      "\u001b[1;31mTypeError\u001b[0m: 'tuple' object does not support item assignment"
     ]
    }
   ],
   "source": [
    "#you can't change the value of a tuple\n",
    "tup1[2] = 'b'"
   ]
  },
  {
   "cell_type": "markdown",
   "metadata": {},
   "source": [
    "**Python List:** List is an ordered collection of elements enclosed within []. A list is a sequence of mutable Python objects."
   ]
  },
  {
   "cell_type": "code",
   "execution_count": 2,
   "metadata": {},
   "outputs": [
    {
     "name": "stdout",
     "output_type": "stream",
     "text": [
      "[1, 'Hello', 3.14, True]\n",
      "<class 'list'>\n"
     ]
    }
   ],
   "source": [
    "#Let's create a list and print its type\n",
    "l1 = [1, 'Hello', 3.14, True]\n",
    "print(l1)\n",
    "print(type(l1))"
   ]
  },
  {
   "cell_type": "code",
   "execution_count": 11,
   "metadata": {},
   "outputs": [
    {
     "name": "stdout",
     "output_type": "stream",
     "text": [
      "a\n",
      "[2, 'b', 3]\n",
      "[10, 'a', 2, 'b', 3, 'c']\n",
      "[10, 'a', 2, 'b', 3]\n",
      "[10, 'a', 2, 'b', 3, 'Hello']\n",
      "[10, 'a', 'World', 2, 'b', 3, 'Hello']\n",
      "[5, 4, 3, 2, 1]\n",
      "[1, 6, 10, 12, 23, 45, 56, 78, 84, 90, 100]\n"
     ]
    }
   ],
   "source": [
    "#extract the individual items from a list\n",
    "l1 = [1,\"a\", 2,\"b\", 3,\"c\"]\n",
    "print(l1[1])\n",
    "print(l1[2:5])\n",
    "#changing the elements of a list at a particular index\n",
    "l1[0]=10\n",
    "print(l1)\n",
    "#popping the last element of a list\n",
    "l1.pop()\n",
    "print(l1)\n",
    "#adding a new element to a list\n",
    "l1.append(\"Hello\")\n",
    "print(l1)\n",
    "#inserting a new element at a particular index\n",
    "l1.insert(2,\"World\")\n",
    "print(l1)\n",
    "#reverse the order of the elements in a list\n",
    "l2 = [1,2,3,4,5]\n",
    "l2.reverse()\n",
    "print(l2)\n",
    "#sorting the elements of a list\n",
    "l3 = [10,100,6,84,45,23,12,56,78,90,1]\n",
    "l3.sort()\n",
    "print(l3)\n"
   ]
  },
  {
   "cell_type": "markdown",
   "metadata": {},
   "source": [
    "**Python Dictionary:** Dictionary is an unordered collection of elements enclosed within {}. A dictionary is a mapping of unique keys to values."
   ]
  },
  {
   "cell_type": "code",
   "execution_count": 16,
   "metadata": {},
   "outputs": [
    {
     "name": "stdout",
     "output_type": "stream",
     "text": [
      "{'a': 1, 'b': 2, 'c': 3}\n",
      "<class 'dict'>\n",
      "dict_keys(['a', 'b', 'c'])\n",
      "dict_values([1, 2, 3])\n",
      "{'a': 1, 'b': 2, 'c': 3, 'd': 4}\n",
      "{'a': 'Hello', 'b': 2, 'c': 3, 'd': 4}\n",
      "{'a': 'Hello', 'b': 2, 'c': 3}\n"
     ]
    }
   ],
   "source": [
    "#Let's create a dictionary and print its type\n",
    "d1 = {'a':1, 'b':2, 'c':3}\n",
    "print(d1)\n",
    "print(type(d1))\n",
    "#Extracting keys from the dictionary\n",
    "print(d1.keys())\n",
    "#Extracting values from the dictionary\n",
    "print(d1.values())\n",
    "#Adding a new element to the dictionary\n",
    "d1['d'] = 4\n",
    "print(d1)\n",
    "#changing an existing element of the dictionary\n",
    "d1['a'] = 'Hello'\n",
    "print(d1)\n",
    "#Popping an element from the dictionary\n",
    "d1.pop('d')\n",
    "print(d1)"
   ]
  },
  {
   "cell_type": "markdown",
   "metadata": {},
   "source": [
    "**Decision making statements:** if-else\n",
    "\n",
    "**if-else:** if-else statement is used to execute a block of code if a certain condition is true."
   ]
  },
  {
   "cell_type": "code",
   "execution_count": 18,
   "metadata": {},
   "outputs": [
    {
     "name": "stdout",
     "output_type": "stream",
     "text": [
      "b is greater than a\n"
     ]
    }
   ],
   "source": [
    "#Let's declare two variable a and b and assign them values then apply if-else conidtion.\n",
    "a = 10\n",
    "b = 20\n",
    "if  b>a:\n",
    "   print(\"b is greater than a\")\n",
    "else:\n",
    "   print(\"b is not greater than a\")\n"
   ]
  },
  {
   "cell_type": "code",
   "execution_count": 20,
   "metadata": {},
   "outputs": [
    {
     "name": "stdout",
     "output_type": "stream",
     "text": [
      "c is greatest\n"
     ]
    }
   ],
   "source": [
    "a = 10\n",
    "b = 20\n",
    "c= 30\n",
    "if (a>b) & (a>c):\n",
    "   print(\"a is greater\")\n",
    "elif (b>a) & (b>c):\n",
    "   print(\"b is greater\")\n",
    "else:\n",
    "   print(\"c is greatest\")"
   ]
  },
  {
   "cell_type": "markdown",
   "metadata": {},
   "source": [
    "**Looping statements:** for, while, break, continue\n",
    "\n",
    "for loop: for loop is used to iterate over a sequence of items.\n",
    "\n",
    "while loop: while loop is used to iterate over a sequence of items.\n",
    "\n",
    "break: break statement is used to exit a loop.\n",
    "\n",
    "continue: continue statement is used to skip the current iteration and continue with the next iteration.\n"
   ]
  },
  {
   "cell_type": "code",
   "execution_count": 21,
   "metadata": {},
   "outputs": [
    {
     "name": "stdout",
     "output_type": "stream",
     "text": [
      "1\n",
      "2\n",
      "3\n",
      "4\n",
      "5\n",
      "6\n",
      "7\n",
      "8\n",
      "9\n",
      "10\n"
     ]
    }
   ],
   "source": [
    "i = 1\n",
    "while i<=10:\n",
    "    print(i)\n",
    "    i=i+1"
   ]
  },
  {
   "cell_type": "code",
   "execution_count": 22,
   "metadata": {},
   "outputs": [
    {
     "name": "stdout",
     "output_type": "stream",
     "text": [
      "3 * 1 = 3\n",
      "3 * 2 = 6\n",
      "3 * 3 = 9\n",
      "3 * 4 = 12\n",
      "3 * 5 = 15\n",
      "3 * 6 = 18\n",
      "3 * 7 = 21\n",
      "3 * 8 = 24\n",
      "3 * 9 = 27\n",
      "3 * 10 = 30\n"
     ]
    }
   ],
   "source": [
    "i = 1\n",
    "n = 3\n",
    "while i<=10:\n",
    "    print (n, \"*\", i, \"=\", n*i)\n",
    "    i=i+1"
   ]
  },
  {
   "cell_type": "code",
   "execution_count": 23,
   "metadata": {},
   "outputs": [
    {
     "name": "stdout",
     "output_type": "stream",
     "text": [
      "mango\n",
      "apple\n",
      "banana\n",
      "orange\n"
     ]
    }
   ],
   "source": [
    "l1 = [\"mango\", \"apple\", \"banana\", \"orange\"]\n",
    "for i in l1:\n",
    "    print(i)\n"
   ]
  },
  {
   "cell_type": "code",
   "execution_count": 25,
   "metadata": {},
   "outputs": [
    {
     "name": "stdout",
     "output_type": "stream",
     "text": [
      "mango Hello\n",
      "mango World\n",
      "apple Hello\n",
      "apple World\n",
      "banana Hello\n",
      "banana World\n"
     ]
    }
   ],
   "source": [
    "l1 = [\"mango\", \"apple\", \"banana\"]\n",
    "l2 = [\"Hello\", \"World\"]\n",
    "\n",
    "for i in l1:\n",
    "    for j in l2:\n",
    "        print(i,j)"
   ]
  }
 ],
 "metadata": {
  "interpreter": {
   "hash": "eb303bda2d532bd4ce610807288500639c8702ae3abc46da76342385bfb32498"
  },
  "kernelspec": {
   "display_name": "Python 3.8.8 64-bit ('ds': conda)",
   "language": "python",
   "name": "python3"
  },
  "language_info": {
   "codemirror_mode": {
    "name": "ipython",
    "version": 3
   },
   "file_extension": ".py",
   "mimetype": "text/x-python",
   "name": "python",
   "nbconvert_exporter": "python",
   "pygments_lexer": "ipython3",
   "version": "3.8.8"
  },
  "orig_nbformat": 4
 },
 "nbformat": 4,
 "nbformat_minor": 2
}
